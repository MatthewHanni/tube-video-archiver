{
 "cells": [
  {
   "cell_type": "markdown",
   "source": [
    "pytube is susceptible to occasional outages. This program attempts to download a video three times, so in the event that all three attempts occurred during the outage, the video will not try to download again.\n",
    "\n",
    "For videos which have not yet been downloaded and have three or more exceptions, all except the earliest two exceptions will be removed so that the script will attempt downloading again. This is intended as an ad-hoc exercise."
   ],
   "metadata": {
    "collapsed": false
   }
  },
  {
   "cell_type": "code",
   "execution_count": 74,
   "outputs": [
    {
     "name": "stdout",
     "output_type": "stream",
     "text": [
      "Requirement already satisfied: boto3 in c:\\users\\mhann\\pycharmprojects\\tube-video-archiver\\.venv\\lib\\site-packages (1.26.133)\n",
      "Requirement already satisfied: s3transfer<0.7.0,>=0.6.0 in c:\\users\\mhann\\pycharmprojects\\tube-video-archiver\\.venv\\lib\\site-packages (from boto3) (0.6.1)\n",
      "Requirement already satisfied: jmespath<2.0.0,>=0.7.1 in c:\\users\\mhann\\pycharmprojects\\tube-video-archiver\\.venv\\lib\\site-packages (from boto3) (1.0.1)\n",
      "Requirement already satisfied: botocore<1.30.0,>=1.29.133 in c:\\users\\mhann\\pycharmprojects\\tube-video-archiver\\.venv\\lib\\site-packages (from boto3) (1.29.133)\n",
      "Requirement already satisfied: urllib3<1.27,>=1.25.4 in c:\\users\\mhann\\pycharmprojects\\tube-video-archiver\\.venv\\lib\\site-packages (from botocore<1.30.0,>=1.29.133->boto3) (1.26.15)\n",
      "Requirement already satisfied: python-dateutil<3.0.0,>=2.1 in c:\\users\\mhann\\pycharmprojects\\tube-video-archiver\\.venv\\lib\\site-packages (from botocore<1.30.0,>=1.29.133->boto3) (2.8.2)\n",
      "Requirement already satisfied: six>=1.5 in c:\\users\\mhann\\pycharmprojects\\tube-video-archiver\\.venv\\lib\\site-packages (from python-dateutil<3.0.0,>=2.1->botocore<1.30.0,>=1.29.133->boto3) (1.16.0)\n"
     ]
    },
    {
     "name": "stderr",
     "output_type": "stream",
     "text": [
      "WARNING: You are using pip version 21.3.1; however, version 23.1.2 is available.\n",
      "You should consider upgrading via the 'C:\\Users\\mhann\\PycharmProjects\\tube-video-archiver\\.venv\\Scripts\\python.exe -m pip install --upgrade pip' command.\n"
     ]
    }
   ],
   "source": [
    "!pip install boto3"
   ],
   "metadata": {
    "collapsed": false
   }
  },
  {
   "cell_type": "code",
   "execution_count": 75,
   "outputs": [],
   "source": [
    "import boto3\n",
    "from botocore.exceptions import ClientError\n",
    "import json"
   ],
   "metadata": {
    "collapsed": false
   }
  },
  {
   "cell_type": "code",
   "execution_count": 76,
   "outputs": [],
   "source": [
    "secret_name= 'prod/hanni'\n",
    "region_name = 'us-east-1'\n",
    "bucket_name = 'yta-bucket-name'\n",
    "folder_name = 'yta-folder-name'"
   ],
   "metadata": {
    "collapsed": false
   }
  },
  {
   "cell_type": "code",
   "execution_count": 77,
   "outputs": [],
   "source": [
    "# Create a Secrets Manager client\n",
    "session = boto3.session.Session()\n",
    "client = session.client(service_name='secretsmanager', region_name=region_name)\n",
    "\n",
    "try:\n",
    "    get_secret_value_response = client.get_secret_value(\n",
    "        SecretId=secret_name\n",
    "    )\n",
    "except ClientError as e:\n",
    "    raise e\n",
    "\n",
    "secrets = json.loads(get_secret_value_response['SecretString'])\n",
    "bucket = secrets[bucket_name]\n",
    "folder_name = secrets[folder_name]"
   ],
   "metadata": {
    "collapsed": false
   }
  },
  {
   "cell_type": "code",
   "execution_count": 78,
   "outputs": [],
   "source": [
    "s3_client = boto3.client('s3')"
   ],
   "metadata": {
    "collapsed": false
   }
  },
  {
   "cell_type": "code",
   "execution_count": 79,
   "outputs": [],
   "source": [
    "def get_s3_bucket_objects(_bucket,_prefix):\n",
    "    object_list = []\n",
    "    continuation_token = None\n",
    "    while True:\n",
    "        if continuation_token is not None:\n",
    "            response = s3_client.list_objects_v2( Bucket=_bucket, Prefix=_prefix, ContinuationToken=continuation_token)\n",
    "        else:\n",
    "            response = s3_client.list_objects_v2( Bucket=_bucket, Prefix=_prefix)\n",
    "        if 'Contents' in response:\n",
    "            object_list.extend(response['Contents'])\n",
    "\n",
    "        if 'NextContinuationToken' in response:\n",
    "            continuation_token = response['NextContinuationToken']\n",
    "        else:\n",
    "            break\n",
    "    return object_list"
   ],
   "metadata": {
    "collapsed": false
   }
  },
  {
   "cell_type": "code",
   "execution_count": 80,
   "outputs": [],
   "source": [
    "success_list = get_s3_bucket_objects(_bucket=bucket,_prefix=f'{folder_name}/json/')\n",
    "exceptions_list = get_s3_bucket_objects(_bucket=bucket,_prefix=f'{folder_name}/exceptions/')"
   ],
   "metadata": {
    "collapsed": false
   }
  },
  {
   "cell_type": "code",
   "execution_count": 81,
   "outputs": [],
   "source": [
    "success_video_id_list = [obj['Key'].split('/')[-1][:-5] for obj in success_list if obj['Key'].endswith('.json')]"
   ],
   "metadata": {
    "collapsed": false
   }
  },
  {
   "cell_type": "code",
   "execution_count": 82,
   "outputs": [],
   "source": [
    "exception_by_video_id = {}\n",
    "for exception in exceptions_list:\n",
    "    exception_key = exception['Key']\n",
    "    if not exception_key.endswith('.json'):\n",
    "        continue\n",
    "    video_id = exception_key.split('/')[2]\n",
    "    if video_id in success_video_id_list:\n",
    "        continue\n",
    "    if video_id not in exception_by_video_id:\n",
    "        exception_by_video_id[video_id] = []\n",
    "    exception_by_video_id[video_id].append(exception)"
   ],
   "metadata": {
    "collapsed": false
   }
  },
  {
   "cell_type": "code",
   "execution_count": 83,
   "outputs": [],
   "source": [
    "for video_id in exception_by_video_id:\n",
    "    exception_by_video_id[video_id].sort(key=lambda x: x['LastModified'],reverse=True)\n",
    "    while len(exception_by_video_id[video_id]) > 2:\n",
    "        exception = exception_by_video_id[video_id][0]\n",
    "        print(f'{video_id}\\t{exception[\"LastModified\"]}\\t{exception[\"Key\"]}\\t{len(exception_by_video_id[video_id])}')\n",
    "        s3_client.delete_object(Bucket=bucket,Key=exception[\"Key\"])\n",
    "        exception_by_video_id[video_id].pop(0)"
   ],
   "metadata": {
    "collapsed": false
   }
  },
  {
   "cell_type": "code",
   "execution_count": 83,
   "outputs": [],
   "source": [],
   "metadata": {
    "collapsed": false
   }
  }
 ],
 "metadata": {
  "kernelspec": {
   "display_name": "Python 3",
   "language": "python",
   "name": "python3"
  },
  "language_info": {
   "codemirror_mode": {
    "name": "ipython",
    "version": 2
   },
   "file_extension": ".py",
   "mimetype": "text/x-python",
   "name": "python",
   "nbconvert_exporter": "python",
   "pygments_lexer": "ipython2",
   "version": "2.7.6"
  }
 },
 "nbformat": 4,
 "nbformat_minor": 0
}
